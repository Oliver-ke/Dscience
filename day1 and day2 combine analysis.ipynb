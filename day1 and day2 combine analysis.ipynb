{
 "cells": [
  {
   "cell_type": "code",
   "execution_count": 45,
   "metadata": {},
   "outputs": [],
   "source": [
    "import pandas as pd\n",
    "import seaborn as sns\n",
    "%matplotlib inline\n",
    "\n",
    "\n",
    "day1 = pd.read_csv('20180728.csv')\n",
    "day2 = pd.read_csv('20180730.csv') #note a day was skipped\n",
    "\n",
    "#lets get the diff bettween the max age in day 1 and that in day 2\n",
    "max_age_day2 = day2.Age.max()\n",
    "max_age_day1 = day1.Age.max()\n",
    "dif = max_age_day1 - max_age_day2 \n",
    "#print(dif)  # from the result clearly seen that day 1 had an older user\n",
    "# how about we find the number of persons greater or equal than 30 yrs in the each data set and aword then a prize\n",
    "day1_30 = day1[day1['Age'] > 30].Age\n",
    "day2_30 = day2[day2['Age'] > 30].Age\n",
    "#lets a plot on \n",
    "day1.combine?"
   ]
  }
 ],
 "metadata": {
  "kernelspec": {
   "display_name": "Python 3",
   "language": "python",
   "name": "python3"
  },
  "language_info": {
   "codemirror_mode": {
    "name": "ipython",
    "version": 3
   },
   "file_extension": ".py",
   "mimetype": "text/x-python",
   "name": "python",
   "nbconvert_exporter": "python",
   "pygments_lexer": "ipython3",
   "version": "3.6.4"
  }
 },
 "nbformat": 4,
 "nbformat_minor": 2
}
